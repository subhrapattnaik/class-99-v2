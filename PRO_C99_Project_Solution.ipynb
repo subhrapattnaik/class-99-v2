{
  "nbformat": 4,
  "nbformat_minor": 0,
  "metadata": {
    "colab": {
      "provenance": [],
      "include_colab_link": true
    },
    "kernelspec": {
      "name": "python3",
      "display_name": "Python 3"
    },
    "language_info": {
      "name": "python"
    }
  },
  "cells": [
    {
      "cell_type": "markdown",
      "metadata": {
        "id": "view-in-github",
        "colab_type": "text"
      },
      "source": [
        "<a href=\"https://colab.research.google.com/github/subhrapattnaik/class-99-v2/blob/main/PRO_C99_Project_Solution.ipynb\" target=\"_parent\"><img src=\"https://colab.research.google.com/assets/colab-badge.svg\" alt=\"Open In Colab\"/></a>"
      ]
    },
    {
      "cell_type": "markdown",
      "metadata": {
        "id": "dBA4tWY44VPi"
      },
      "source": [
        "**PRINT MY NAME**\n"
      ]
    },
    {
      "cell_type": "code",
      "metadata": {
        "colab": {
          "base_uri": "https://localhost:8080/"
        },
        "id": "1xgwjr4K4YvN",
        "outputId": "85e135dd-06fa-4cd9-8a4b-6661b2a2fdb6"
      },
      "source": [
        "name=(input(\"Enter your name :  \"))\n",
        "iteration = len(name)\n",
        "for i in range(0,iteration):\n",
        "    for j in range(0,iteration):\n",
        "      if(i==j):\n",
        "        print(name[j],sep=\" \",end=\" \")\n",
        "      else:\n",
        "        print(\"*\",sep=\" \",end=\" \")\n",
        "    print()"
      ],
      "execution_count": null,
      "outputs": [
        {
          "output_type": "stream",
          "name": "stdout",
          "text": [
            "Enter your name :  Sheldon\n",
            "S * * * * * * \n",
            "* h * * * * * \n",
            "* * e * * * * \n",
            "* * * l * * * \n",
            "* * * * d * * \n",
            "* * * * * o * \n",
            "* * * * * * n \n"
          ]
        }
      ]
    }
  ]
}