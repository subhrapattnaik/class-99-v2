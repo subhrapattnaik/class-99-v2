{
  "nbformat": 4,
  "nbformat_minor": 0,
  "metadata": {
    "colab": {
      "provenance": [],
      "include_colab_link": true
    },
    "kernelspec": {
      "name": "python3",
      "display_name": "Python 3"
    },
    "language_info": {
      "name": "python"
    }
  },
  "cells": [
    {
      "cell_type": "markdown",
      "metadata": {
        "id": "view-in-github",
        "colab_type": "text"
      },
      "source": [
        "<a href=\"https://colab.research.google.com/github/subhrapattnaik/class-99-v2/blob/main/PRO_C99_Reference_Code.ipynb\" target=\"_parent\"><img src=\"https://colab.research.google.com/assets/colab-badge.svg\" alt=\"Open In Colab\"/></a>"
      ]
    },
    {
      "cell_type": "markdown",
      "metadata": {
        "id": "coqt-xGIJF51"
      },
      "source": [
        "## Teacher Activity"
      ]
    },
    {
      "cell_type": "code",
      "metadata": {
        "colab": {
          "base_uri": "https://localhost:8080/"
        },
        "id": "CLE8G5N9QUrt",
        "outputId": "16acf50d-6838-4cb6-8aab-a4e01f88cecf"
      },
      "source": [
        "print(\"*\")\n",
        "print(\"* *\")\n",
        "print(\"* * *\")\n",
        "print(\"* * * *\")\n",
        "print(\"* * * * *\")"
      ],
      "execution_count": null,
      "outputs": [
        {
          "output_type": "stream",
          "text": [
            "*\n",
            "* *\n",
            "* * *\n",
            "* * * *\n",
            "* * * * *\n"
          ],
          "name": "stdout"
        }
      ]
    },
    {
      "cell_type": "markdown",
      "metadata": {
        "id": "vVE4Kb8E17P1"
      },
      "source": [
        "### **FOR LOOPS IN PYTHON**"
      ]
    },
    {
      "cell_type": "markdown",
      "metadata": {
        "id": "5zdXwX9E4PaB"
      },
      "source": [
        "\n",
        "**Syntax 1** : \n",
        "```\n",
        "for repetition_var in sequence:\n",
        "    statement 1\n",
        "    statement 2\n",
        "    .....\n",
        "    .....\n",
        "    .....\n",
        "    statement 10\n",
        "```\n",
        "**Syntax 2** :\n",
        "\n",
        "\n",
        "\n",
        "```\n",
        "for repetition_var in range(start_val, end_val,steps):\n",
        "    statement 1\n",
        "    statement 2\n",
        "    .....\n",
        "    .....\n",
        "    .....\n",
        "    statement 10\n",
        "```\n",
        "\n",
        "\n"
      ]
    },
    {
      "cell_type": "markdown",
      "metadata": {
        "id": "gV-SAcx35waS"
      },
      "source": [
        "## Keywords: \n",
        "\n",
        "  >**for** : the \"for\" keyoword is used to mark the begining of the for loop\n",
        "\n",
        "  >**in** : \n",
        "\n",
        "## Variables:\n",
        "\n",
        "  >**repetition_var** :\n",
        "\n",
        "\n",
        "  >**sequence** :\n"
      ]
    },
    {
      "cell_type": "markdown",
      "metadata": {
        "id": "5NN2_DKRTkMT"
      },
      "source": [
        "### **NESTED FOR LOOPS IN PYTHON**"
      ]
    },
    {
      "cell_type": "markdown",
      "metadata": {
        "id": "Su6VoYBm-eow"
      },
      "source": [
        "**Syntax 1** : \n",
        "```\n",
        "for repetition_var_1 in sequence:\n",
        "  for repetition_var_2 in sequence:\n",
        "    statement 1\n",
        "    statement 2\n",
        "    .....\n",
        "    .....\n",
        "    .....\n",
        "    statement 10\n",
        "```\n",
        "**Syntax 2** :\n",
        "\n",
        "\n",
        "\n",
        "```\n",
        "for repetition_var_1 in range(start_val, end_val,steps):\n",
        "  for repetition_var_2 in range(start_val, end_val,steps):\n",
        "    statement 1\n",
        "    statement 2\n",
        "    .....\n",
        "    .....\n",
        "    .....\n",
        "    statement 10\n",
        "```\n"
      ]
    },
    {
      "cell_type": "code",
      "metadata": {
        "id": "bGtG_4I5ix71",
        "colab": {
          "base_uri": "https://localhost:8080/"
        },
        "outputId": "958c43b5-2923-4a35-9f61-819784fab38c"
      },
      "source": [
        "num = int(input(\"Enter the number of rows: \"))"
      ],
      "execution_count": null,
      "outputs": [
        {
          "output_type": "stream",
          "text": [
            "Enter the number of rows: 7\n"
          ],
          "name": "stdout"
        }
      ]
    },
    {
      "cell_type": "code",
      "metadata": {
        "id": "TemSEDW1jgr7",
        "colab": {
          "base_uri": "https://localhost:8080/"
        },
        "outputId": "7df0e1e3-c927-44af-8eb3-26b5921c3483"
      },
      "source": [
        "for i in range(0, num):   \n",
        "        for j in range(0, i + 1):              \n",
        "            print(\"*\", end=\" \")\n",
        "        print() "
      ],
      "execution_count": null,
      "outputs": [
        {
          "output_type": "stream",
          "text": [
            "* \n",
            "* * \n",
            "* * * \n",
            "* * * * \n",
            "* * * * * \n",
            "* * * * * * \n",
            "* * * * * * * \n"
          ],
          "name": "stdout"
        }
      ]
    },
    {
      "cell_type": "code",
      "metadata": {
        "colab": {
          "base_uri": "https://localhost:8080/"
        },
        "id": "63Co62uFnZw-",
        "outputId": "a1c1b8d2-7d90-4183-f289-23e7d431c376"
      },
      "source": [
        "for i in range(0, num):   \n",
        "        for j in range(0, i + 1):              \n",
        "            print(j, end=\" \")\n",
        "        print()  "
      ],
      "execution_count": null,
      "outputs": [
        {
          "output_type": "stream",
          "text": [
            "0 \n",
            "0 1 \n",
            "0 1 2 \n",
            "0 1 2 3 \n",
            "0 1 2 3 4 \n"
          ],
          "name": "stdout"
        }
      ]
    },
    {
      "cell_type": "code",
      "metadata": {
        "colab": {
          "base_uri": "https://localhost:8080/"
        },
        "id": "4zP0MjhznjP9",
        "outputId": "622a592f-3953-456f-b898-30db4fa37636"
      },
      "source": [
        "for i in range(1, num+1):   \n",
        "        for j in range(1, i + 1):              \n",
        "            print(j, end=\" \")\n",
        "        print()  "
      ],
      "execution_count": null,
      "outputs": [
        {
          "output_type": "stream",
          "text": [
            "1 \n",
            "1 2 \n",
            "1 2 3 \n",
            "1 2 3 4 \n",
            "1 2 3 4 5 \n"
          ],
          "name": "stdout"
        }
      ]
    },
    {
      "cell_type": "markdown",
      "metadata": {
        "id": "ysjt-qOcI-iF"
      },
      "source": [
        "## Student Activity"
      ]
    },
    {
      "cell_type": "code",
      "metadata": {
        "colab": {
          "base_uri": "https://localhost:8080/"
        },
        "id": "ru6vHbxYn-W8",
        "outputId": "b64c954b-30e1-4505-9add-81288175c1ca"
      },
      "source": [
        "for i in range(0, num):   \n",
        "        for j in range(num, i, -1):              \n",
        "            print(\"*\", end=\" \")\n",
        "        print()  "
      ],
      "execution_count": null,
      "outputs": [
        {
          "output_type": "stream",
          "text": [
            "* * * * * \n",
            "* * * * \n",
            "* * * \n",
            "* * \n",
            "* \n"
          ],
          "name": "stdout"
        }
      ]
    },
    {
      "cell_type": "markdown",
      "metadata": {
        "id": "86bqhdNpI4bS"
      },
      "source": [
        "## Aditional Activity"
      ]
    },
    {
      "cell_type": "code",
      "metadata": {
        "colab": {
          "base_uri": "https://localhost:8080/"
        },
        "id": "GSqz-ZQH0x4o",
        "outputId": "aeeca7e2-78e5-4ef9-f889-bafde50eb888"
      },
      "source": [
        "for i in range(num, 0, -1):   \n",
        "        for j in range(1, i+1):              \n",
        "            print(j, end=\" \")\n",
        "        print()  "
      ],
      "execution_count": null,
      "outputs": [
        {
          "output_type": "stream",
          "text": [
            "1 2 3 4 5 \n",
            "1 2 3 4 \n",
            "1 2 3 \n",
            "1 2 \n",
            "1 \n"
          ],
          "name": "stdout"
        }
      ]
    }
  ]
}